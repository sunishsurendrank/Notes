{
 "cells": [
  {
   "cell_type": "markdown",
   "metadata": {},
   "source": [
    "Adding two hashtable"
   ]
  },
  {
   "cell_type": "code",
   "execution_count": 1,
   "metadata": {},
   "outputs": [
    {
     "name": "stdout",
     "output_type": "stream",
     "text": [
      "{'a': 1, 'b': 2, 'c': 3, 'd': 4}\n"
     ]
    }
   ],
   "source": [
    "first = {\"a\":1,\"b\":2}\n",
    "second={\"c\":3,\"d\":4}\n",
    "\n",
    "third = first\n",
    "third.update(second)\n",
    "print(third)"
   ]
  },
  {
   "cell_type": "markdown",
   "metadata": {},
   "source": [
    "Init Method"
   ]
  },
  {
   "cell_type": "code",
   "execution_count": 1,
   "metadata": {},
   "outputs": [
    {
     "name": "stdout",
     "output_type": "stream",
     "text": [
      "Name:Sinoj,Age:30\n",
      "Name:Sunish,Age:20\n",
      "Name:abc,Age:12\n"
     ]
    }
   ],
   "source": [
    "class employee:\n",
    "\n",
    "    def __init__(self,name=\"Sinoj\",age=\"30\"):\n",
    "        self.name = name \n",
    "        self.age = age\n",
    "\n",
    "    def display(self):\n",
    "        print(\"Name:{0},Age:{1}\".format(self.name,self.age))\n",
    "    \n",
    "\n",
    "obj = employee()\n",
    "#---------------------------------------\n",
    "obj1 = employee()\n",
    "obj1.name = \"Sunish\"\n",
    "obj1.age = \"20\"\n",
    "#---------------------------------------\n",
    "obj2 = employee(\"abc\",\"12\")\n",
    "#---------------------------------------\n",
    "obj.display()\n",
    "obj1.display()\n",
    "obj2.display()"
   ]
  },
  {
   "cell_type": "markdown",
   "metadata": {},
   "source": [
    "Lamda"
   ]
  },
  {
   "cell_type": "code",
   "execution_count": 2,
   "metadata": {},
   "outputs": [
    {
     "name": "stdout",
     "output_type": "stream",
     "text": [
      "2\n"
     ]
    }
   ],
   "source": [
    "\n",
    "x = lambda a,b : a*b if a==1 else a+b\n",
    "\n",
    "print (x(1,2))"
   ]
  },
  {
   "cell_type": "markdown",
   "metadata": {},
   "source": [
    "How to make a python script parameterized"
   ]
  },
  {
   "cell_type": "code",
   "execution_count": 3,
   "metadata": {},
   "outputs": [
    {
     "name": "stderr",
     "output_type": "stream",
     "text": [
      "usage: ipykernel_launcher.py [-h] Name Age\n",
      "ipykernel_launcher.py: error: the following arguments are required: Name, Age\n"
     ]
    },
    {
     "ename": "SystemExit",
     "evalue": "2",
     "output_type": "error",
     "traceback": [
      "An exception has occurred, use %tb to see the full traceback.\n",
      "\u001b[1;31mSystemExit\u001b[0m\u001b[1;31m:\u001b[0m 2\n"
     ]
    },
    {
     "name": "stderr",
     "output_type": "stream",
     "text": [
      "c:\\Tools\\MiniForge3\\lib\\site-packages\\IPython\\core\\interactiveshell.py:3534: UserWarning: To exit: use 'exit', 'quit', or Ctrl-D.\n",
      "  warn(\"To exit: use 'exit', 'quit', or Ctrl-D.\", stacklevel=1)\n"
     ]
    }
   ],
   "source": [
    "import argparse #library\n",
    "\n",
    "\n",
    "Parseobject = argparse.ArgumentParser()\n",
    "\n",
    "Parseobject.add_argument(\"Name\",type=str)\n",
    "Parseobject.add_argument(\"Age\",type=int)\n",
    "\n",
    "arguments = Parseobject.parse_args()\n",
    "\n",
    "print(arguments)"
   ]
  },
  {
   "cell_type": "code",
   "execution_count": 4,
   "metadata": {},
   "outputs": [
    {
     "ename": "ValueError",
     "evalue": "invalid literal for int() with base 10: '--stdin=9029'",
     "output_type": "error",
     "traceback": [
      "\u001b[1;31m---------------------------------------------------------------------------\u001b[0m",
      "\u001b[1;31mValueError\u001b[0m                                Traceback (most recent call last)",
      "\u001b[1;32mc:\\Users\\310265487\\Content\\Data\\Repositories\\GitHub\\Notes\\Python\\python.ipynb Cell 9\u001b[0m line \u001b[0;36m9\n\u001b[0;32m      <a href='vscode-notebook-cell:/c%3A/Users/310265487/Content/Data/Repositories/GitHub/Notes/Python/python.ipynb#X15sZmlsZQ%3D%3D?line=6'>7</a>\u001b[0m \u001b[39mif\u001b[39;00m \u001b[39m__name__\u001b[39m \u001b[39m==\u001b[39m \u001b[39m'\u001b[39m\u001b[39m__main__\u001b[39m\u001b[39m'\u001b[39m:\n\u001b[0;32m      <a href='vscode-notebook-cell:/c%3A/Users/310265487/Content/Data/Repositories/GitHub/Notes/Python/python.ipynb#X15sZmlsZQ%3D%3D?line=7'>8</a>\u001b[0m     args \u001b[39m=\u001b[39m sys\u001b[39m.\u001b[39margv\n\u001b[1;32m----> <a href='vscode-notebook-cell:/c%3A/Users/310265487/Content/Data/Repositories/GitHub/Notes/Python/python.ipynb#X15sZmlsZQ%3D%3D?line=8'>9</a>\u001b[0m     d \u001b[39m=\u001b[39m \u001b[39msum\u001b[39m(\u001b[39mint\u001b[39;49m(args[\u001b[39m2\u001b[39;49m]),\u001b[39mint\u001b[39m(args[\u001b[39m4\u001b[39m]))\n\u001b[0;32m     <a href='vscode-notebook-cell:/c%3A/Users/310265487/Content/Data/Repositories/GitHub/Notes/Python/python.ipynb#X15sZmlsZQ%3D%3D?line=9'>10</a>\u001b[0m     \u001b[39mprint\u001b[39m (d)\n",
      "\u001b[1;31mValueError\u001b[0m: invalid literal for int() with base 10: '--stdin=9029'"
     ]
    }
   ],
   "source": [
    "import sys\n",
    "\n",
    "def sum(a,b) :\n",
    "    c = a+b\n",
    "    return c\n",
    "\n",
    "if __name__ == '__main__':\n",
    "    args = sys.argv\n",
    "    d = sum(int(args[2]),int(args[4]))\n",
    "    print (d)"
   ]
  },
  {
   "cell_type": "markdown",
   "metadata": {},
   "source": [
    "Execute commands"
   ]
  },
  {
   "cell_type": "code",
   "execution_count": null,
   "metadata": {},
   "outputs": [],
   "source": [
    "import os\n",
    "\n",
    "output = os.popen(\"powershell.exe Get-service\").readlines()\n",
    "message = \"Stopped\"\n",
    "\n",
    "for line in output:\n",
    "    if message in line: \n",
    "        print(\"Message found : {0}\".format(line))"
   ]
  }
 ],
 "metadata": {
  "kernelspec": {
   "display_name": "python_3.10.6",
   "language": "python",
   "name": "python3"
  },
  "language_info": {
   "codemirror_mode": {
    "name": "ipython",
    "version": 3
   },
   "file_extension": ".py",
   "mimetype": "text/x-python",
   "name": "python",
   "nbconvert_exporter": "python",
   "pygments_lexer": "ipython3",
   "version": "3.10.6"
  }
 },
 "nbformat": 4,
 "nbformat_minor": 2
}
